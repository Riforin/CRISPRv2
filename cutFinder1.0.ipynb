{
 "metadata": {
  "name": "",
  "signature": "sha256:53602d117a62af85c53c7ef0d5742bb3bd170f8d0321ccb6bb28d38be200aded"
 },
 "nbformat": 3,
 "nbformat_minor": 0,
 "worksheets": [
  {
   "cells": [
    {
     "cell_type": "code",
     "collapsed": false,
     "input": [
      "\n",
      "# import libraries\n",
      "from Bio.Seq import Seq\n",
      "from Bio import SeqIO\n",
      "\n",
      "\n",
      "# create genome files\n",
      "allRecords=[SeqIO.read(\"Yali0A_contig.fasta\", \"fasta\"), SeqIO.read(\"Yali0B_contig.fasta\", \"fasta\"),\n",
      "            SeqIO.read(\"Yali0C_contig.fasta\", \"fasta\"), SeqIO.read(\"Yali0D_contig.fasta\", \"fasta\"),\n",
      "            SeqIO.read(\"Yali0E_contig.fasta\", \"fasta\"), SeqIO.read(\"Yali0F_contig.fasta\", \"fasta\")]\n",
      "\n",
      "\n",
      "\n",
      "def findCutSites():\n",
      "# Here we find all suitable cut sites in a sequence, comparing versus chromosomal files\n",
      "     \n",
      "    locus=Seq(input(\"Enter your target locus, using quotes: \").upper())\n",
      "    \n",
      "    cutters=[]    \n",
      "    \n",
      "    # let's look through our locus to find cut sites. We end at len-24, since we are looking thru 23-nts,  \n",
      "    # and because python includes the first index but not the last one\n",
      "    for i in range(len(locus)-24):\n",
      "\n",
      "        # sub is an array containing all 23mers\n",
      "        sub=locus[i:i+23]\n",
      "        \n",
      "        # first, cut sequences are N20NGG, cannot contain TTTTTT\n",
      "        if sub[21]==\"G\" and sub[22]=='G' and not('TTTTTT' in sub):\n",
      "           \n",
      "            # and also, if the last 12 bases exists followed by any NGG more than once, toss it.\n",
      "            # we define a CheckUnique function below which returns 1 if the input is found only once,\n",
      "            # returns 2 if it's found more than once, and 0 if it's not found at all. \n",
      "        \n",
      "            if (checkUnique(sub[8:20]+\"AGG\")+checkUnique(sub[8:20]+\"TGG\")+checkUnique(sub[8:20]+\"CGG\")+checkUnique(sub[8:20]+\"GGG\")) > 1:\n",
      "                break\n",
      "            \n",
      "            # also, don't want any N9-20 followed by NAG\n",
      "            elif (checkUnique(sub[8:20]+\"AAG\")+checkUnique(sub[8:20]+\"TAG\")+checkUnique(sub[8:20]+\"CAG\")+checkUnique(sub[8:20]+\"GAG\")) > 0:\n",
      "                break\n",
      "            \n",
      "            else:\n",
      "                # print the cut site that passes all tests\n",
      "                print (sub[0:20])\n",
      "           \n",
      "            \n",
      "            \n",
      "            \n",
      "            \n",
      "def checkUnique(candidate):\n",
      "# Here we take in a candidate sequence and see if it's unique in the chromosomes we defined earlier\n",
      "        \n",
      "        nfound=0\n",
      "        \n",
      "        for record in allRecords:\n",
      "            nfound=nfound+record.seq.count(str(candidate))\n",
      "            if nfound>1:\n",
      "                return 2\n",
      "                break\n",
      "            # note that we should look in the other strand, too    \n",
      "            nfound=nfound+record.seq.reverse_complement().count(str(candidate))\n",
      "            if nfound>1:\n",
      "                return 2\n",
      "                break\n",
      "            \n",
      "        if nfound == 0:\n",
      "            return 0\n",
      "            \n",
      "        if nfound == 1:\n",
      "            return 1\n",
      "            \n",
      "            \n",
      "findCutSites()\n",
      "                    \n",
      "                        \n",
      "                    \n",
      "\n"
     ],
     "language": "python",
     "metadata": {},
     "outputs": []
    },
    {
     "cell_type": "code",
     "collapsed": false,
     "input": [
      "locus=\"acatcttcttgaagaagttcttccatgagccaggcgagtatgtccacagagcaagacgctttttgagaggtcgagggtggtagacaatgttgtcagccactgagg\"\n",
      "print(locus[0:3])\n"
     ],
     "language": "python",
     "metadata": {},
     "outputs": [
      {
       "output_type": "stream",
       "stream": "stdout",
       "text": [
        "aca\n"
       ]
      }
     ],
     "prompt_number": 23
    },
    {
     "cell_type": "code",
     "collapsed": false,
     "input": [],
     "language": "python",
     "metadata": {},
     "outputs": []
    }
   ],
   "metadata": {}
  }
 ]
}
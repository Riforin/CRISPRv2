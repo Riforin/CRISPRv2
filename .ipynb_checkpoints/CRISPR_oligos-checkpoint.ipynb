{
 "metadata": {
  "name": "",
  "signature": "sha256:164227561ddac59899ba1c5bbf64984abfe222371038527f44a9eeaf9c292cf5"
 },
 "nbformat": 3,
 "nbformat_minor": 0,
 "worksheets": [
  {
   "cells": [
    {
     "cell_type": "code",
     "collapsed": true,
     "input": [
      "from Bio.Seq import Seq\n",
      "\n",
      "locusName=\"YPRCd15c\"\n",
      "cutsite=Seq(\"AATCCGAACAACAGAGCATA\")\n",
      "locus=Seq(\"GTAGGAATATTAATGTAATAGAATCAATAAATGACTGTATATTAAAACGAAGAACGAAAGAATTTTACCACTTTGTAAAATATTAGATTGCGTTGAGGGGCTTGTGGTCACCTGTCATAGGATGCCTATGTTCCCCCCAAAAATTTAATTCTGAAGTAAGTTTTTGTTGAGTACTTCAACTTTATTTCCTTCAATTGTGAAATGTTGATAACTAGCATCTATTACTATCCGATAACGCCAGGCGCCTTTATATCATATAATTAAGACACAAAAGGATAAAACAAAGGTGTTAACTATTCTGCATACTCACTATCGTAAACTGTCCTGCAAATCGTGTAAATATGTATTTCATTTTTTTTGCAGTGAAAAAAGGCATGTAAAATACCGCATCAAGTAACTCTACTCCGCCTGTGGTTTCAAGACTAACGGCTTGAGACAAAATGGGAAGAAATGATTGCAGAAAAGCCATATGTGTAATAGCAAAAAGCTGGATAGTGCTTACCAGATGTTTACCTTAATTTCTTGGTGAATTAGAGAAGTACAGAAGTTTTACTATTAATCCCACCATAGAAATTTGTATAGGAAAGTAGTTTATTGGAGTTATTGGATATACTGTGTAAACTATTTCTTGAAATTGTAATCTTAAGATGCTCTTCTTATTCTATTAAAAATAGAAAATGATTTTCATATTTATTTATTTATTTATATTTTGGCATTACTCTTCATCATTTTTTTCCCTCTAAGAAGCTTCCTTTCTTTTTATAAGGATAACAAAACCAAAAGGAATATTGGGTCAGATGAATGGACGCGAATGCAAGACAGAAGTCCAAATCACGTCAAGACAAAGAAAGAAAGAAAGAAAAACTAACACATTAATGTAGTTTTAAAATTTCAAATCCGAACAACAGAGCATAGGGTTTCGCAAACAAACTTAAATATATGCTAGAATAAAAATTAACTATCATCTATTGACTAGTATTCATATATGACGTAATAAAATGAAATGTAGATTCATTTTGTAGATTCCTATATCCTCAGAGAGAATTTTTGGTATATCCTATATGCATAATATTATAGTCTTTGCCAACAATCGAAACCAAACATATATCTTAAAATACACCACTTTCTCAAATAAATTCGTTAAATAACGGTGTGTTGAAATGTTTACCGTAACTTGTAACAGCTCTAACAACTCATACCTGCTATGTACTGATTCCAAGAAAAAAAAAATGGAAGGTCGGGATGAGCATATACAAGCACTAAGAAGAACAATACAGAACTCTACACGGTATTATTGTGCTACAAGCTCGAGTAAAACCGAGTGTTTTGACGATACTAACGTTGTTAAGAAAGTAACTTGTTATCAAACTCATTACCAACTTGTGATTAATTGGTGAATAATATGATAATTGTCGAAATTCCATTGTTGGTAAAGCCTATAATATTATGTATACAGATTATACTAGAAATTCTCTCGAGAATATAAGAATCCCCAAAATTGAATCGGTATTTCTACATACTAATATTACCATTACTTCTCCTTTCGTTTTATATGTTTCATTCCTATTACATTATCGATCTTTGCATTTCAGCTTCCATTATATTTGATGTCTGTTTTATGTCCCCACGTTACACCGCATGTGACAGTATACTAGTAACATGAGTGCTACCGAATAGATGACATTTTAGACTTTCATTCCAACAACTTGGTTGACAGAATGTTACGTACCCTATATCTAATCTATATGAGGCCTGAATCTAACTGAAAGGTGGAATTTCAGTAATTTATCAAGCTTTAATAAGTTTGGGTAGTTTAACTGTGCAAAAAGGTATTTACCTTACATACTGAATCTTGTCTGTTTGGTAGCGGCTGCTTTATGGGTGTTTCATAGATGTCCAAAATATATTGAGATATTGAGATATAACATTCTAGGATAATCAAAATTACCATAATTCAAAAGCTCGTATGGCGCAGTGGTAGCGCAGCAGATTGCAAATCTGTTGGTCCTTAGTTCGATCCTGAGTGCGAGCTTTCTTTTTTAGACTACTAATTTTATTTTGCTAGTCATTTTTTTTTTATACTCAAAAAGTAAAAAGACTACGAGTATATTCAAAGTAAAAAACGAACGT\")\n",
      "insertName=\"GFP\"\n",
      "\n",
      "if locus.find(cutsite)==-1:                   # If cutsite sequence found in ANTISENSE\n",
      "    locus=locus.reverse_complement()     # then reverse DNA, and turn it into a string\n",
      "    \n",
      "    \n",
      "index=locus.find(cutsite)                     # index gives the start position of cutsite within locus\n",
      "    \n",
      "Lprimer=locus[index-30:index]+insert[0:29]\n",
      "Rprimer=(insert[len(insert)-29:len(insert)]+locus[index+34:index+64]).reverse_complement()\n",
      "   \n",
      "Lhom=locus[index-60:index]\n",
      "Rhom=(locus[index+34:index+94]).reverse_complement()\n",
      "yscreen=loc\n",
      "\n",
      "print(\"cut\" + locusName + \" \" + \"cgggtggcgaatgggacttt\" + cutsite + \"gttttagagctagaaatagc\");\n",
      "print(\"L_\" + insertName + \":\" + locusName + \" \" + Lhom[30:60] + \"ttgttcaatcatgcgaaacgatcctcatcc\");\n",
      "print(\"R_\" + insertName + \":\" + locusName + \" \" + Rhom[30:60] + \"tattaccctgttatccctagcggatctgcc\");\n",
      "print(\"Lext:\" + locusName + \" \" + Lhom );\n",
      "print(\"Rext:\" + locusName + \" \" + Rhom + \"\\n\")\n",
      "    \n",
      "\n"
     ],
     "language": "python",
     "metadata": {},
     "outputs": [
      {
       "output_type": "stream",
       "stream": "stdout",
       "text": [
        "cutYPRCd15c cgggtggcgaatgggactttAATCCGAACAACAGAGCATAgttttagagctagaaatagc\n",
        "L_GFP:YPRCd15c CTAACACATTAATGTAGTTTTAAAATTTCAttgttcaatcatgcgaaacgatcctcatcc\n",
        "R_GFP:YPRCd15c TTAATTTTTATTCTAGCATATATTTAAGTTtattaccctgttatccctagcggatctgcc\n",
        "Lext:YPRCd15c CGTCAAGACAAAGAAAGAAAGAAAGAAAAACTAACACATTAATGTAGTTTTAAAATTTCA\n",
        "Rext:YPRCd15c CATATATGAATACTAGTCAATAGATGATAGTTAATTTTTATTCTAGCATATATTTAAGTT\n",
        "\n"
       ]
      }
     ],
     "prompt_number": 41
    },
    {
     "cell_type": "code",
     "collapsed": false,
     "input": [
      "locusName=\"ARS106a\"\n",
      "cutsite=Seq(\"ATACGGTCAGGGTAGCGCCC\")\n",
      "locus=Seq(input(\"Locus sequence +/- a few kb, using quotes: \"),)\n",
      "#insertName=\"GFP\"\n",
      "#insert=Seq(\"ttttttttttttttttttttttttttttttttttttttttttttttttttt\")\n"
     ],
     "language": "python",
     "metadata": {},
     "outputs": [
      {
       "name": "stdout",
       "output_type": "stream",
       "stream": "stdout",
       "text": [
        "Locus sequence +/- a few kb, using quotes: \"TGT\"\n"
       ]
      }
     ],
     "prompt_number": 12
    },
    {
     "cell_type": "code",
     "collapsed": false,
     "input": [
      "my_sequence=\"CAACGGGCAAGTCCATCTTTTGGCCAGGCTGTTTGGATGCTGCCAACTCCGGCATATTGTTCAGCGGGTTTATTCTATCGTTATCTCCCTGCATAACGGGGCACTCAGAGGATGGTGGCGACGACGACGACGACTCGTGCATGACTGGGCACCCTGACATGGATGATACTGCTGCCCCACCAATATCTTTGCCCGTAGTTTTTTGATCTGCCCAAAACCAACCCATTTTTTGTAGTTTCTGTTGTATTTGCTCTGCTTTATTCGTGCTACTCGTATGTGTATGCTATCTTATTAGCTGCCTATTTCATTTCTCTTAGTATTCGCATTTAAAGCTGAGAAATTTTTTGATAATCATTTCCCGATGAAAAGAAAAAAGGGAAAAAGTCGATAAAAAGAGGTAAGCGAAAAGAAAAAGAAAAAATAGAAAATTTGGGTGGGGGGGGCGGAAGATCCCACGCCGCGCAAGAGATATTTCAATATTACTACTACATAGTATATGCGGCGCTACCATACGTACAACTTTTTTTTCTTTTTTTTTTTTTTTGCCTTCTAAATTTGTAATTCGGTCACACTTTTGTCGCAGTGTTGCAAACGTCTTGAAAGAATTGTAGGTGTTGTAAACCACAACTTGCTCCCTTGAAAGCGTTGCTGATTATTTCCTTTGAACCTGTTGCATTGTTGTATTGTTGTATTGCTGCTGATGTTTTAGGCACTTAGTATTAGATATTCCTAAGCCTCCCTCACCATAAATTACCTTTATTACTTGCATGACTATTATTAGCAGAGCATGTAGTATGGGACTCAAGACCGATATGATACACACCAAAGACGTAGGCACCGGCGATTAAATCAAAGGCTCCGATAGCCGAAAAGTGAGAAGAAAAAAAAAGGAAAAAAAGGAATTGTCCTAATGAGCGGTGTGGCCGACTTGCCATAATATCAGTTAGGGCTACTATCAATGTTTTATCTACGTTGGAGTAAGATCGTTTATCACTTCCATATTTGGACCAAATGAAAAGTTCAATCGGCCAAGTATTTCATGGATGGAATGACGTTTGGTAAGGAAGTGCTTTTTCTTTTTCCACATATTTTCCCTTTCTCTCGGGGAAATTTTGTTTCTAAACATAAAAAATAAAGCAACAGCAAAAAAGAGGGTCTGTCCAGCGAATAAGAAGAAAACCTCCTTTTCGGCTTTTGAAGATAGGTTGCAGTTGTCTGCGGGCACAAAATGGGCAATTTTTTTAATACTTTTTACGTATGAGACAAGATTTTTTTCGCCAATTATATCGCATGAAGAATAACCAGAGTTTTTCTCCGAACGTTAAGGGAGTTGAAGTAAAAATAAAGAAAGGACCAAATGAGAATGGGTATGCTTGGTCTTAGTCTTCGAATCAAATTCTGCTTCCCTGTTCATGGCAACGTCACCTCAATTATTTGGAAAGGGGGGGTTTTCCGACTTTATTTGAGATGACTTGAGATGTGTGTCAATGCTAGTATTTTGGAGATTAATCTCAGTACAAAACAATATTAAAAAGAGGTGAATTATTTTTCCCCCCTTATTTTTTTTTTGTTAGAATTGATCCAAATGTAAATAAACAATCACAAGGAAAAAAAAAAAAAAAAAAAAAATAGCCGCCATGACCCCGGATCGTCGGTTGTGATACGGTCAGGGTAGCGCCCTGGTCAAACTTCAGAACTAAAAAAATAATAAGGAAGAAAAAAATAGCTAATTTTTCCGGCAGAAAGATTTTCGCTACCCGAAAGTTTTTCCGGCAAGCTAAATGGAAAAAGGAAAGATTATTGAAAGAGAAAGAAAGAAAAAAAAAAAATGTACACCCAGACATCGGGCTTCCACAATTTCGGCTCTATTGTTTTCCATCTCTCGCAACGGCGGGATTCCTCTATGGCGTGTGATGTCTGTATCTGTTACTTAATCCAGAAACTGGCACTTGACCCAACTCTGCCACGTGGGTCGTTTTGCCATCGACAGATTGGGAGATTTTCATAGTAGAATTCAGCATGATAGCTACGTAAATGTGTTCCGCACCGTCACAAAGTGTTTTCTACTGTTCTTTCTTCTTTCGTTCATTCAGTTGAGTTGAGTGAGTGCTTTGTTCAATGGATCTTAGCTAAAATGCATATTTTTTCTCTTGGTAAATGAATGCTTGTG\""
     ],
     "language": "python",
     "metadata": {},
     "outputs": [],
     "prompt_number": 15
    },
    {
     "cell_type": "code",
     "collapsed": false,
     "input": [
      "#!/usr/bin/env python\n",
      "#title           : CRISPR_oligos.py\n",
      "#description     : defines several methods to generate oligos for CRISPR\n",
      "#author          : Leo d'Espaux <leodespaux@gmail.com>, help from Xingkai Li\n",
      "#date            : 20141217\n",
      "#version         : 1.0\n",
      "#notes           : includes options for \n",
      "#notes           : delGene replGene cutOligos\n",
      "#notes           : at some point there will be one interface\n",
      "#==============================================================================\n",
      "\n",
      "from Bio.Seq import Seq\n",
      "\n",
      "\n",
      "\"\"\"\n",
      "Created on Thu Sep 11 16:01:49 2014\n",
      "@author: Leo leodespaux@gmail.com\n",
      "\"\"\"\n",
      "\n",
      "\n",
      "def cutOligos():\n",
      "    \n",
      "# This function asks user for a target cut site, and generates oligos to clone that cut site into \n",
      "# a CRISPR plasmid, and to screen for positive clones containing that cut site. It may also generate\n",
      "# universal homology regions to integrate or otherwise alter that target region. \n",
      "#\n",
      "# The current cut site architecture is:  >>>>> YtRNAp-HDV ribozyme- >20nt< -gRNA <<<<<\n",
      "\n",
      "    from Bio.Seq import Seq\n",
      "    GeneName=input(\"Name, using quotes: \")\n",
      "    cutsite=input(\"20-mer cut sequence, using quotes: \")\n",
      "    DNA=input(\"Locus sequence +/- a few kb, using quotes: \")\n",
      "\n",
      "    if DNA.find(cutsite)==-1:                   # If cutiste sequence found in ANTISENSE\n",
      "        DNA=Seq(DNA).reverse_complement()       # then reverse DNA, and turn it into a string\n",
      "    \n",
      "    index=DNA.find(cutsite)+16                  # index gives the start position of the string, e.g., 0. \n",
      "                                                # we add 16 since index+0=start of 20-mer, so index+16=cut site, \n",
      "                                                # 3 nt before last of 20mer\n",
      "        \n",
      "    Lup=DNA[index-520:index-490]\n",
      "    Rup=(DNA[index-50:index-20]+flinker).reverse_complement()\n",
      "     \n",
      "    Ldown=rlinker+DNA[index+20:index+50]\n",
      "    Rdown=DNA[index+490:index+520].reverse_complement()\n",
      "    \n",
      "    cutSequence=Seq(\"cgggtggcgaatgggacttt\")+cutsite+Seq(\"gttttagagctagaaatagc\")\n",
      "    seqprimer=Seq(\"gacttt\")+cutsite\n",
      "    \n",
      "\n",
      "    print(\"cut\" + GeneName + \"  \" + cutSequence)\n",
      "    print(\"Lcolony\" + GeneName + \"  \" + seqprimer)\n",
      "    print(\"Lup\" + GeneName + \"  \" + Lup)\n",
      "    \n",
      "    \n",
      "    \n",
      "    \n",
      "    \n",
      "    \n",
      "    \n",
      "def delGene():\n",
      "    GeneName=input(\"Name, using quotes: \")\n",
      "    cutsite=input(\"20-mer cut sequence, using quotes: \").upper()\n",
      "    DNA=input(\"Locus sequence +1few kb, using quotes: \")\n",
      "    deletion=input(\"Sequence to be deleted, using quotes: \")\n",
      "\n",
      "    if DNA.find(deletion)==-1:                  # if cutiste sequence found in ANTISENSE\n",
      "        DNA=Seq(DNA).reverse_complement()       # reverse DNA, and turn it into a string\n",
      "    \n",
      "    DNA=Seq(DNA)\n",
      "    \n",
      "    index=DNA.find(deletion)                    # index gives the start position of the string, e.g., 0. \n",
      "                                                # we add 16 since index+0=start of 20-mer, so index+16=cut site, 3 nt before last of 20mer\n",
      "    DNA=DNA[0:index]+DNA[index+len(deletion):len(DNA)-1]\n",
      "\n",
      "    #note that now index points to the first nt in the 3' fragment left after the deletion\n",
      "    uphom=DNA[index-520:index-20]\n",
      "    downhom=DNA[index+20:index+520]             # we keep it in SENSE strand for now. This definition is actually useless here. \n",
      "    \n",
      "    \n",
      "    Lup=DNA[index-500:index-470]\n",
      "    \n",
      "    \n",
      "    cutSequence=Seq(\"GCAGTGAAAGATAAATGATC\")+cutsite+Seq(\"GTTTTAGAGCTAGAAATAGC\")\n",
      "    seqprimer=Seq(\"TGATC\")+cutsite\n",
      "    \n",
      "    print(\"cut\" + GeneName + \"  \" + cutSequence)\n",
      "    print(\"seq\" + GeneName + \"  \" + seqprimer)\n",
      "    print(\"Lup\" + GeneName + \"del\" + \" \" + Lup)\n",
      "    \n",
      "    \n",
      "    \n",
      "    \n",
      "def insertGene():\n",
      "    \n",
      "# This function asks user for a target cut site, a target locus, and a DNA sequence to be inserted.\n",
      "# The function outputs primers to allow one to PCR the insert with homology to the cut site. The final\n",
      "# integration happens 17nt from the cut site in both direction, such that a 34nt region is deleted.\n",
      "# The current cut site architecture is:  >>>>> YtRNAp-HDV ribozyme- >20nt< -gRNA <<<<<\n",
      "\n",
      "    from Bio.Seq import Seq\n",
      "    locusName=input(\"Locus name, using quotes: \")\n",
      "    cutsite=input(\"20-mer cut sequence, using quotes: \").upper()\n",
      "    locus=input(\"Locus sequence +/- a few kb, using quotes: \")\n",
      "    insertName=input(\"Name of gene to be inserted, using quotes: \")\n",
      "    insert=input(\"Enter insert DNA sequence, using quotes: \")\n",
      "\n",
      "\n",
      "    if locus.find(cutsite)==-1:                   # If cutsite sequence found in ANTISENSE\n",
      "        locus=Seq(locus).reverse_complement()     # then reverse DNA, and turn it into a string\n",
      "    \n",
      "    \n",
      "    index=locus.find(cutsite)                     # index gives the start position of cutsite within locus\n",
      "    \n",
      "        \n",
      "    Lprimer=locus[index-30:index]+insert[0:29]\n",
      "    Rprimer=Seq(insert[len(insert)-29:len(insert)]+locus[index+34:index+64]).reverse_complement()\n",
      "   \n",
      "    Lhom=locus[index-60:index]\n",
      "    Rhom=Seq(locus[index+34:index+94]).reverse_complement()\n",
      "    \n",
      " \n",
      "    print(\"L_\" + insertName + \"_:\" + locusName + \" \" + Lprimer)\n",
      "    print(\"R_\" + insertName + \"_:\" + locusName + \" \" + Rprimer)\n",
      "    print(\"Lext:\" + locusName + \" \" + Lhom)\n",
      "    print(\"Rext:\" + locusName + \" \" + Rhom)\n",
      "\n",
      "    \n",
      "\n",
      "    \n",
      "    \n",
      "    \n",
      "    \n",
      "# now to run, type the program and ^Enter or play. E.g. remove hash below to run delGene()\n",
      "\n",
      "cutOligos()\n"
     ],
     "language": "python",
     "metadata": {},
     "outputs": [
      {
       "name": "stdout",
       "output_type": "stream",
       "stream": "stdout",
       "text": [
        "Name, using quotes: \"ARS106a\"\n"
       ]
      },
      {
       "name": "stdout",
       "output_type": "stream",
       "stream": "stdout",
       "text": [
        "20-mer cut sequence, using quotes: \"ATACGGTCAGGGTAGCGCCC\"\n"
       ]
      },
      {
       "name": "stdout",
       "output_type": "stream",
       "stream": "stdout",
       "text": [
        "Locus sequence +/- a few kb, using quotes: \"CAACGGGCAAGTCCATCTTTTGGCCAGGCTGTTTGGATGCTGCCAACTCCGGCATATTGTTCAGCGGGTTTATTCTATCGTTATCTCCCTGCATAACGGGGCACTCAGAGGATGGTGGCGACGACGACGACGACTCGTGCATGACTGGGCACCCTGACATGGATGATACTGCTGCCCCACCAATATCTTTGCCCGTAGTTTTTTGATCTGCCCAAAACCAACCCATTTTTTGTAGTTTCTGTTGTATTTGCTCTGCTTTATTCGTGCTACTCGTATGTGTATGCTATCTTATTAGCTGCCTATTTCATTTCTCTTAGTATTCGCATTTAAAGCTGAGAAATTTTTTGATAATCATTTCCCGATGAAAAGAAAAAAGGGAAAAAGTCGATAAAAAGAGGTAAGCGAAAAGAAAAAGAAAAAATAGAAAATTTGGGTGGGGGGGGCGGAAGATCCCACGCCGCGCAAGAGATATTTCAATATTACTACTACATAGTATATGCGGCGCTACCATACGTACAACTTTTTTTTCTTTTTTTTTTTTTTTGCCTTCTAAATTTGTAATTCGGTCACACTTTTGTCGCAGTGTTGCAAACGTCTTGAAAGAATTGTAGGTGTTGTAAACCACAACTTGCTCCCTTGAAAGCGTTGCTGATTATTTCCTTTGAACCTGTTGCATTGTTGTATTGTTGTATTGCTGCTGATGTTTTAGGCACTTAGTATTAGATATTCCTAAGCCTCCCTCACCATAAATTACCTTTATTACTTGCATGACTATTATTAGCAGAGCATGTAGTATGGGACTCAAGACCGATATGATACACACCAAAGACGTAGGCACCGGCGATTAAATCAAAGGCTCCGATAGCCGAAAAGTGAGAAGAAAAAAAAAGGAAAAAAAGGAATTGTCCTAATGAGCGGTGTGGCCGACTTGCCATAATATCAGTTAGGGCTACTATCAATGTTTTATCTACGTTGGAGTAAGATCGTTTATCACTTCCATATTTGGACCAAATGAAAAGTTCAATCGGCCAAGTATTTCATGGATGGAATGACGTTTGGTAAGGAAGTGCTTTTTCTTTTTCCACATATTTTCCCTTTCTCTCGGGGAAATTTTGTTTCTAAACATAAAAAATAAAGCAACAGCAAAAAAGAGGGTCTGTCCAGCGAATAAGAAGAAAACCTCCTTTTCGGCTTTTGAAGATAGGTTGCAGTTGTCTGCGGGCACAAAATGGGCAATTTTTTTAATACTTTTTACGTATGAGACAAGATTTTTTTCGCCAATTATATCGCATGAAGAATAACCAGAGTTTTTCTCCGAACGTTAAGGGAGTTGAAGTAAAAATAAAGAAAGGACCAAATGAGAATGGGTATGCTTGGTCTTAGTCTTCGAATCAAATTCTGCTTCCCTGTTCATGGCAACGTCACCTCAATTATTTGGAAAGGGGGGGTTTTCCGACTTTATTTGAGATGACTTGAGATGTGTGTCAATGCTAGTATTTTGGAGATTAATCTCAGTACAAAACAATATTAAAAAGAGGTGAATTATTTTTCCCCCCTTATTTTTTTTTTGTTAGAATTGATCCAAATGTAAATAAACAATCACAAGGAAAAAAAAAAAAAAAAAAAAAATAGCCGCCATGACCCCGGATCGTCGGTTGTGATACGGTCAGGGTAGCGCCCTGGTCAAACTTCAGAACTAAAAAAATAATAAGGAAGAAAAAAATAGCTAATTTTTCCGGCAGAAAGATTTTCGCTACCCGAAAGTTTTTCCGGCAAGCTAAATGGAAAAAGGAAAGATTATTGAAAGAGAAAGAAAGAAAAAAAAAAAATGTACACCCAGACATCGGGCTTCCACAATTTCGGCTCTATTGTTTTCCATCTCTCGCAACGGCGGGATTCCTCTATGGCGTGTGATGTCTGTATCTGTTACTTAATCCAGAAACTGGCACTTGACCCAACTCTGCCACGTGGGTCGTTTTGCCATCGACAGATTGGGAGATTTTCATAGTAGAATTCAGCATGATAGCTACGTAAATGTGTTCCGCACCGTCACAAAGTGTTTTCTACTGTTCTTTCTTCTTTCGTTCATTCAGTTGAGTTGAGTGAGTGCTTTGTTCAATGGATCTTAGCTAAAATGCATATTTTTTCTCTTGGTAAATGAATGCTTGTG\"\n"
       ]
      },
      {
       "ename": "NameError",
       "evalue": "global name 'flinker' is not defined",
       "output_type": "pyerr",
       "traceback": [
        "\u001b[0;31m---------------------------------------------------------------------------\u001b[0m\n\u001b[0;31mNameError\u001b[0m                                 Traceback (most recent call last)",
        "\u001b[0;32m<ipython-input-3-6b9f3084208e>\u001b[0m in \u001b[0;36m<module>\u001b[0;34m()\u001b[0m\n\u001b[1;32m    134\u001b[0m \u001b[0;31m# now to run, type the program and ^Enter or play. E.g. remove hash below to run delGene()\u001b[0m\u001b[0;34m\u001b[0m\u001b[0;34m\u001b[0m\u001b[0m\n\u001b[1;32m    135\u001b[0m \u001b[0;34m\u001b[0m\u001b[0m\n\u001b[0;32m--> 136\u001b[0;31m \u001b[0mcutOligos\u001b[0m\u001b[0;34m(\u001b[0m\u001b[0;34m)\u001b[0m\u001b[0;34m\u001b[0m\u001b[0m\n\u001b[0m",
        "\u001b[0;32m<ipython-input-3-6b9f3084208e>\u001b[0m in \u001b[0;36mcutOligos\u001b[0;34m()\u001b[0m\n\u001b[1;32m     40\u001b[0m \u001b[0;34m\u001b[0m\u001b[0m\n\u001b[1;32m     41\u001b[0m     \u001b[0mLup\u001b[0m\u001b[0;34m=\u001b[0m\u001b[0mDNA\u001b[0m\u001b[0;34m[\u001b[0m\u001b[0mindex\u001b[0m\u001b[0;34m-\u001b[0m\u001b[0;36m520\u001b[0m\u001b[0;34m:\u001b[0m\u001b[0mindex\u001b[0m\u001b[0;34m-\u001b[0m\u001b[0;36m490\u001b[0m\u001b[0;34m]\u001b[0m\u001b[0;34m\u001b[0m\u001b[0m\n\u001b[0;32m---> 42\u001b[0;31m     \u001b[0mRup\u001b[0m\u001b[0;34m=\u001b[0m\u001b[0;34m(\u001b[0m\u001b[0mDNA\u001b[0m\u001b[0;34m[\u001b[0m\u001b[0mindex\u001b[0m\u001b[0;34m-\u001b[0m\u001b[0;36m50\u001b[0m\u001b[0;34m:\u001b[0m\u001b[0mindex\u001b[0m\u001b[0;34m-\u001b[0m\u001b[0;36m20\u001b[0m\u001b[0;34m]\u001b[0m\u001b[0;34m+\u001b[0m\u001b[0mflinker\u001b[0m\u001b[0;34m)\u001b[0m\u001b[0;34m.\u001b[0m\u001b[0mreverse_complement\u001b[0m\u001b[0;34m(\u001b[0m\u001b[0;34m)\u001b[0m\u001b[0;34m\u001b[0m\u001b[0m\n\u001b[0m\u001b[1;32m     43\u001b[0m \u001b[0;34m\u001b[0m\u001b[0m\n\u001b[1;32m     44\u001b[0m     \u001b[0mLdown\u001b[0m\u001b[0;34m=\u001b[0m\u001b[0mrlinker\u001b[0m\u001b[0;34m+\u001b[0m\u001b[0mDNA\u001b[0m\u001b[0;34m[\u001b[0m\u001b[0mindex\u001b[0m\u001b[0;34m+\u001b[0m\u001b[0;36m20\u001b[0m\u001b[0;34m:\u001b[0m\u001b[0mindex\u001b[0m\u001b[0;34m+\u001b[0m\u001b[0;36m50\u001b[0m\u001b[0;34m]\u001b[0m\u001b[0;34m\u001b[0m\u001b[0m\n",
        "\u001b[0;31mNameError\u001b[0m: global name 'flinker' is not defined"
       ]
      }
     ],
     "prompt_number": 3
    },
    {
     "cell_type": "raw",
     "metadata": {},
     "source": [
      "Here insertGene"
     ]
    },
    {
     "cell_type": "code",
     "collapsed": false,
     "input": [],
     "language": "python",
     "metadata": {},
     "outputs": [],
     "prompt_number": 20
    },
    {
     "cell_type": "code",
     "collapsed": false,
     "input": [
      "s=\"AACAATTTCACACAGGAAACAGCTATGACC\"\n",
      "print(s.lower())\n"
     ],
     "language": "python",
     "metadata": {},
     "outputs": [
      {
       "output_type": "stream",
       "stream": "stdout",
       "text": [
        "aacaatttcacacaggaaacagctatgacc\n"
       ]
      }
     ],
     "prompt_number": 4
    },
    {
     "cell_type": "code",
     "collapsed": false,
     "input": [],
     "language": "python",
     "metadata": {},
     "outputs": [],
     "prompt_number": 2
    },
    {
     "cell_type": "code",
     "collapsed": false,
     "input": [],
     "language": "python",
     "metadata": {},
     "outputs": []
    }
   ],
   "metadata": {}
  }
 ]
}
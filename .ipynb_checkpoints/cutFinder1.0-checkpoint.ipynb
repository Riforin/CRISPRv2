{
 "metadata": {
  "name": "",
  "signature": "sha256:dfbf474c370c5956e6dac95dd9b9ddc32b2ae8830b5d89e336d652ab4ba71adc"
 },
 "nbformat": 3,
 "nbformat_minor": 0,
 "worksheets": []
}
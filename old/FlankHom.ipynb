{
 "metadata": {
  "name": "",
  "signature": "sha256:3dfcf26c3fb9317efe41f7c478793de4d51ed85d19efb1b546e49a8825bd4b61"
 },
 "nbformat": 3,
 "nbformat_minor": 0,
 "worksheets": [
  {
   "cells": [
    {
     "cell_type": "code",
     "collapsed": false,
     "input": [
      "def FlankHom():\n",
      "\n",
      "    \n",
      "# This function asks user for a chromosomal locus, a region to be deleted, a suitable CRIPSR cutsite \n",
      "# and outputs oligos for cloning of a pL308 Cas9-gRNA vector, and ones for generating a donor DNA\n",
      "# to delete the unwanted chromosomal region. Primers Lup+Rdown produce a 1kb band if deletion was\n",
      "# successful. \n",
      "# part of yCRISPRv3 by leodespaux@gmail.com\n",
      "\n",
      "    from Bio.Seq import Seq\n",
      "\n",
      "    GeneName=input(\"Name, using quotes: \")\n",
      "    cutsite=input(\"20-mer cut sequence, using quotes: \").upper()\n",
      "    locus=input(\"Locus sequence +1few kb, using quotes: \")\n",
      "            \n",
      "    locus=Seq(locus)\n",
      "    \n",
      "    # If sequence is in antisense direction, reverse the locus to orient rel. to cut site\n",
      "    if locus.find(cutsite)==-1:\n",
      "        locus=locus.reverse_complement()\n",
      "        \n",
      "    index=locus.find(cutsite)                  \n",
      "   \n",
      "    \n",
      "    \n",
      "    Lup=locus[index-504:index-474]\n",
      "    Rup=locus[index-30:index].reverse_complement()\n",
      "    \n",
      "    Ldown=locus[index+34:index+64]\n",
      "    Rdown=locus[index+504:index+534].reverse_complement()\n",
      "    \n",
      "\n",
      "    print(\"Lup\" + GeneName + \"(sew) \" + Lup)\n",
      "    print(\"Rup\" + GeneName +  \"(sew) \" + Rup)\n",
      "    print(\"Ldown\" + GeneName + \"(sew) \" + Ldown)\n",
      "    print(\"Rdown\" + GeneName + \"(sew) \" + Rdown)\n",
      "\n",
      "\n",
      "# now to run, type the program and ^Enter or play. E.g. remove hash below to run FlankHom()\n",
      "FlankHom()\n"
     ],
     "language": "python",
     "metadata": {},
     "outputs": [
      {
       "name": "stdout",
       "output_type": "stream",
       "stream": "stdout",
       "text": [
        "Name, using quotes: \"720a\"\n"
       ]
      },
      {
       "name": "stdout",
       "output_type": "stream",
       "stream": "stdout",
       "text": [
        "20-mer cut sequence, using quotes: \"CAACAATTGTTACAATAGTA\"\n"
       ]
      },
      {
       "name": "stdout",
       "output_type": "stream",
       "stream": "stdout",
       "text": [
        "Locus sequence +1few kb, using quotes: \"TAAGTTGTAAATATGTTGATGCCGTTATTATCGATGCTGACGCCACCTCAATGTCTCAGTATAACTGCGAGAAGTATCATATTGGCACGGCTGTCCTCACTGCTGCCGGAAAATTCAGTGAATACTTGACTAAAGAGCTTATTGTGAAGAGGGTGGAATCGCAAAGGGAGGTTTACATTGCGAGGAACCAAAAAAAGGGAATGTCCATATAAACAAATGTTGAAAACTTCTTCGAACGTAAATTAAATGGATGTAAGAAAACTGTATTACATAAGTCATGAAGTAGGCATGCAAGTATATACCTATAGATGCATATAAATCAGTGGAGAAGGCCACTATCCTTCAGAGATCAAAAAACCTTTTTTTATCTTGAAAACGCCCTCATTCCTTTTGGACGTTTTCAAACTTTTGTTCATGCGATTGCAAATTTGAGCCTCTTCTATCTTTCTTGAACACTGGGGGTATTTCACCATTATCAATTAAGTCATCAATCTCATCGCCTGGCTTACCCCAATTACCCTTGCCGGAACCTTGCTTCTTGATGTGATTTGGAGATTCACCGTAGTTACCAGTGTGCGAAAAGTACTTTGGATCAGCCTTTCCTTCACGTTCGGTCCACTTGTTTGTTCTCGTCATTTTTTCTGATTGGTTGTACACTTGAGCGGTTTGTTACTGTTGATTGTTCGTTTATTTGTATAATTGAGTTTACACAACAATTGTTACAATAGTATGGGTAATTAGGGCCAAGAGAGTGACAAAAAGCAAACTTATAAATAGTCCTTTTATACAAATGACAAGTGTTCGCTTCTGCGCTCGCAGCCCCCTGTTTTCGAAGGAGTTTCTTAGCCTAAGCTAGGCAGGCGCGCCCCCATTATCTATCCCTTCATTGCTTACTGAGAGGTTTTCCTCCCCCCCTCCGCGTATATTTCCTCCGCTGGAGAAAATTAGTTGTGGGACGGATAGCATCACTTAATTCTGTACCTTTTTGAAACTGGCTTGGTACTTTCTGTTGGATAGCAACATTTCCCGCTGGGATACTTCAACATGGGCTATGAATTTTCTTTTGTCTTTTATCTTTTATCTTTTATCTTTTATCTTTAAATTATTTGAGCTCGGTTAAGTTCATAACTATTGCGTGCCCGAATGGTATTCTTTCAATTCACAACCAAACATTAAAATGAAGAAAGCATACTCTTATATTATATCAATGTCTTTTTCTTTACTTATTTGTCTTTGCTCATAAATTTCTACATAATGGTAGTAATGGTGATGAAATGTTGTTACTTGTGATATATTACATAGTTTTTACAGGCATATTCTATCTGATACCTGCCAACCTGTTGGTATTCATATGGAGATTGATATCTAGATCATCAGTGCTTTCCTCAATGTTGTTGAGACGTTTTTGCTGAGAGTCTAATTCTTTACCAGTGGTCAAGGCCATTTTCTTCAATCTGTTGCTAACCTGCTGAATCTGGTCCAAATTCCTATCAATTTCCAATTCCATTTCGTCATCTTCTTCATCATTCTCAAACTGATATCTCTTTGCCTTTTCTAGAACATTCTTCCTCTGATATCTTTCCCGCACCTCACTTATGTTATTATTTGCGTTCATAGCACCCTCTATTCTTTGAGTGGACTGAGACAATTGTTGACTTGTTTGCTCTCTCATTAATTTTTCTTCAATTTTCCTATTCTTCAGCTGCTCTTCCCTCTCCCTTCTCCTTCTCTTGGAATTAAACGGATTAGAAACATGGACAGCCAATATACTACGGTTCAATTTTTTTAGTTCTGCAACTTTTTCATCTGCAACTTTATTTTGCACCTTCATTAAATCTAAGTTTCCTTCTACGTTATTCAATTGTTCACTTTGATGACCCAGCATACCCAATGTGTTCATACCTGCTCTTTCGGCGTCTTGAGCCATTTTTAGTGTATTTCTAGTAGAGGCTACGGAACTCTGTTTCGTAAATTTGATCTCCTGCTTGATTTCATCTACTGCTTCATCTTCTTCCTGCTGCTGGCGAGCCTCCTCTTCTTTTTGTATTTCTTCAAATGTTTTGTAACCCCTTTGATCTCCATATTGGTTATTTGTTGCGTTAAAGTGTTGCTGTTGCTGTTGCTGCTCATCCATGAACCACTGTTGCTGCTGCTGCTGTCTTGAACTATGATCAACTTCGGACGCATTTAAATCTATTGAATCTTCATTCGTCATTACTGCATTCAAATCAGGCTCATCTAATGCCGCT\"\n"
       ]
      },
      {
       "output_type": "stream",
       "stream": "stdout",
       "text": [
        "Lup720a(sew) ATATAAACAAATGTTGAAAACTTCTTCGAA\n",
        "Rup720a(sew) TGTAAACTCAATTATACAAATAAACGAACA\n",
        "Ldown720a(sew) CAAGAGAGTGACAAAAAGCAAACTTATAAA\n",
        "Rdown720a(sew) TTTATGAGCAAAGACAAATAAGTAAAGAAA\n"
       ]
      }
     ],
     "prompt_number": 24
    },
    {
     "cell_type": "code",
     "collapsed": false,
     "input": [],
     "language": "python",
     "metadata": {},
     "outputs": [],
     "prompt_number": 15
    },
    {
     "cell_type": "code",
     "collapsed": false,
     "input": [],
     "language": "python",
     "metadata": {},
     "outputs": []
    }
   ],
   "metadata": {}
  }
 ]
}
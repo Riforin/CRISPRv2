{
 "metadata": {
  "name": "",
  "signature": "sha256:b1e1b6fcd1875b1ef66f46501e079384e24b704294a419ff5143ce5a38e9bea4"
 },
 "nbformat": 3,
 "nbformat_minor": 0,
 "worksheets": [
  {
   "cells": [
    {
     "cell_type": "code",
     "collapsed": false,
     "input": [
      "from Bio.Seq import Seq\n",
      "from Bio import SeqIO\n",
      "#------------------------\n",
      "\n",
      "#Finds unique cutsites in chromosome A of S. Kluyveri where Num_Desired is the number of unique cutsites needed\n",
      "#If unique cutsites in other chromosomes change the code at the indicated places.\n",
      "\n",
      "def FindCutsites(Num_Desired):\n",
      "    \n",
      "    allRecords=[SeqIO.read(\"chromosomeA.fasta\", \"fasta\"), SeqIO.read(\"chromosomeB.fasta\", \"fasta\"),\n",
      "                SeqIO.read(\"chromosomeC.fasta\", \"fasta\"), SeqIO.read(\"chromosomeD.fasta\", \"fasta\"),\n",
      "                SeqIO.read(\"chromosomeE.fasta\", \"fasta\"), SeqIO.read(\"chromosomeF.fasta\", \"fasta\"),\n",
      "                SeqIO.read(\"chromosomeG.fasta\", \"fasta\"), SeqIO.read(\"chromosomeH.fasta\", \"fasta\")]\n",
      "                \n",
      "    cutters=[[\"Sequence\", \"Chromosome\", \"start index\"]]\n",
      "    #allRecords[0] refers to chromosomeA, to change chromosomes, change it to allRecords[1] etc\n",
      "    \n",
      "    found=0\n",
      "    \n",
      "    # we want to go through each chromosome, so allRecords[]\n",
      "    for i in range(len(allRecords[0])-23):\n",
      "        #change it here as well\n",
      "        sub=allRecords[0][i:i+23]\n",
      "        #and here------------------------------------------------------------------------------v----\n",
      "        if sub[21]==\"G\" and sub[22]=='G' and not('TTTTTT' in sub):\n",
      "            if (CheckUnique(sub[8:21]+\"AGG\")+CheckUnique(sub[8:21]+\"TGG\")+CheckUnique(sub[8:21]+\"CGG\")+CheckUnique(sub[8:21]+\"GGG\")) > 1:\n",
      "                break\n",
      "            elif (CheckUnique(sub[8:21]+\"AAG\")+CheckUnique(sub[8:21]+\"TAG\")+CheckUnique(sub[8:21]+\"CAG\")+CheckUnique(sub[8:21]+\"GAG\")) > 0:\n",
      "                break\n",
      "            #change allRecords[1:] to include everything but the chromosome of interest. \n",
      "            else:\n",
      "                cutters.append([str(sub.seq), str(record.id), i])\n",
      "                found=found+1\n",
      "        if found==Num_Desired:\n",
      "            print(cutters)\n",
      "            break\n",
      "                \n",
      "#---------------------------\n",
      "\n",
      "                \n",
      "#---------------------------\n",
      "\n",
      "# Code by Leo d'Espaux <leodespaux@gmail.com>   \n",
      "# last updated 8/7/14               \n",
      "           \n",
      "# Finds whether a sequence (as a string or a Seq object) is unique in the chromosome set defined internally in the module. \n",
      "# Returns 2 if not unique, 1 if unique, 0 if not found at all\n",
      "                \n",
      "#---------------------------\n",
      "                \n",
      "                \n",
      "def CheckUnique(candidate):\n",
      "        \n",
      "        nfound=0\n",
      "        \n",
      "        for record in allRecords:\n",
      "            nfound=nfound+record.seq.count(str(candidate))\n",
      "            if nfound>1:\n",
      "                return 2\n",
      "                break\n",
      "            nfound=nfound+record.seq.reverse_complement().count(str(candidate))\n",
      "            if nfound>1:\n",
      "                return 2\n",
      "                break\n",
      "            \n",
      "        if nfound == 0:\n",
      "            return 0\n",
      "            \n",
      "        if nfound == 1:\n",
      "            return 1\n",
      "            \n",
      "                    \n",
      "                        \n",
      "                    \n",
      "        \n"
     ],
     "language": "python",
     "metadata": {},
     "outputs": []
    },
    {
     "cell_type": "code",
     "collapsed": false,
     "input": [
      "from Bio.Seq import Seq\n",
      "from Bio import SeqIO\n",
      "\n",
      "def findCutSites(Num_Desired):\n",
      "    \n",
      "    # let's load the genome, from the files stored in this same directory    \n",
      "    Chromosomes=[SeqIO.read(\"Yali0A_contig.fasta\", \"fasta\")]\n",
      "    \n",
      "    print Chromosomes\n",
      "    \n",
      "findCutSites(2)\n",
      "         "
     ],
     "language": "python",
     "metadata": {},
     "outputs": [
      {
       "output_type": "stream",
       "stream": "stdout",
       "text": [
        "[SeqRecord(seq=Seq('gatgggatgcacattaaacacattgatgggggtgaaagaaacaaatggagcctg...aca', SingleLetterAlphabet()), id='Yali0A', name='Yali0A', description='Yali0A Yali0A.1 Yarrowia lipolytica strain CLIB122 chromosome A complete sequence.', dbxrefs=[])]\n"
       ]
      }
     ],
     "prompt_number": 4
    },
    {
     "cell_type": "code",
     "collapsed": false,
     "input": [],
     "language": "python",
     "metadata": {},
     "outputs": []
    }
   ],
   "metadata": {}
  }
 ]
}
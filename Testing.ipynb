{
 "metadata": {
  "name": "",
  "signature": "sha256:d60c4618c63e6ce208bbad2cbc1c6a3919ff053b81b0e3226463c4609f1bf856"
 },
 "nbformat": 3,
 "nbformat_minor": 0,
 "worksheets": [
  {
   "cells": [
    {
     "cell_type": "code",
     "collapsed": false,
     "input": [
      "# import libraries we're using\n",
      "from Bio.Seq import Seq\n",
      "from Bio.SeqRecord import SeqRecord\n",
      "from Bio import SeqIO\n",
      "from intermine.webservice import Service\n",
      "\n",
      "\n",
      "# define global variables\n",
      "HomologyLength=1000 \n",
      "\n",
      "input=(\"Name a gene \")\n",
      "\n",
      "def fetchGene(GeneName):\n",
      "    \n",
      "    service = Service(\"http://yeastmine.yeastgenome.org/yeastmine/service\")\n",
      "    template = service.get_template('Gene_GenomicDNA')\n",
      "\n",
      "    rows = template.rows(\n",
      "        E = {\"op\": \"LOOKUP\", \"value\": GeneName, \"extra_value\": \"S. cerevisiae\"}\n",
      "    )\n",
      "    \n",
      "    # this service seems to return multiple similar genes but we want the first one only, so count\n",
      "    # and it returns information about the gene you want\n",
      "    count=0\n",
      "    for row in rows:\n",
      "        \n",
      "        count=count+1\n",
      "        if count==1:\n",
      "            descr= row[\"description\"]\n",
      "            GeneSeq=Seq(row[\"sequence.residues\"])\n",
      "            GeneSysName=row[\"secondaryIdentifier\"]\n",
      "            ChromosomeSeq=row[\"chromosome.sequence.residues\"]\n",
      "            print(\" \")\n",
      "            print(\"I think you want...... \"+row[\"secondaryIdentifier\"])\n",
      "            print(row[\"description\"])\n",
      "            print(\" \")\n",
      "            print(row[\"sequence.residues\"])\n",
      "            print(\" \")\n",
      "            print(\"Good choice! I have a feeling you're going to get lucky with this one.\")\n",
      "            print(\" \")\n",
      "            print(\"Give me a second to put some of my ducks in a circle...\")\n",
      "       \n",
      "\n",
      "            \n",
      "    #let's create a record for the oldGene\n",
      "    GeneRecord = SeqRecord(GeneSeq, id=GeneSysName)\n",
      "    \n",
      "    #let's create a record for the entire chromosome\n",
      "    ChromosomeRecord=SeqRecord\n",
      "    \n",
      "    #now let's add some more information to make it useful\n",
      "    GeneRecord.name=GeneName\n",
      "    GeneRecord.features=GeneSysName\n",
      "\n",
      "    return GeneRecord "
     ],
     "language": "python",
     "metadata": {},
     "outputs": []
    }
   ],
   "metadata": {}
  }
 ]
}
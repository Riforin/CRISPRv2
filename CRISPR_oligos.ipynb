{
 "metadata": {
  "name": "",
  "signature": "sha256:0b2fa726880cd7d9114a01bfa656ba9583fcf7714e4022ab142ebe6b2aa7e672"
 },
 "nbformat": 3,
 "nbformat_minor": 0,
 "worksheets": [
  {
   "cells": [
    {
     "cell_type": "code",
     "collapsed": false,
     "input": [
      "#!/usr/bin/env python\n",
      "#title           : CRISPR_oligos.py\n",
      "#description     : defines several methods to generate oligos for CRISPR\n",
      "#author          : Leo d'Espaux <leodespaux@gmail.com>, help from Xingkai Li\n",
      "#date            : 20141217\n",
      "#version         : 1.0\n",
      "#notes           : includes options for \n",
      "#notes           : delGene replGene cutOligos\n",
      "#notes           : at some point there will be one interface\n",
      "#==============================================================================\n",
      "\n",
      "from Bio.Seq import Seq\n",
      "\n",
      "\n",
      "\"\"\"\n",
      "Created on Thu Sep 11 16:01:49 2014\n",
      "@author: Leo leodespaux@gmail.com\n",
      "\"\"\"\n",
      "\n",
      "\n",
      "\n",
      "def cutOligos():\n",
      "    \n",
      "# This function asks user for a target cut site, and generates oligos to clone that cut site into \n",
      "# a CRISPR plasmid, and to screen for positive clones containing that cut site. It may also generate\n",
      "# universal homology regions to integrate or otherwise alter that target region. \n",
      "#\n",
      "# The current cut site architecture is:  >>>>> YtRNAp-HDV ribozyme- >20nt< -gRNA <<<<<\n",
      "\n",
      "    from Bio.Seq import Seq\n",
      "    GeneName=input(\"Name, using quotes: \")\n",
      "    cutsite=input(\"20-mer cut sequence, using quotes: \")\n",
      "    DNA=input(\"Locus sequence +/- a few kb, using quotes: \")\n",
      "\n",
      "    flinker=Seq(\"cgacgttgtaaaacgacggccagtgaattg\")\n",
      "    rlinker=Seq(\"ccctttagtgagggttaattccgagcttgg\")\n",
      "\n",
      "    if DNA.find(cutsite)==-1:                   # If cutiste sequence found in ANTISENSE\n",
      "        DNA=Seq(DNA).reverse_complement()       # then reverse DNA, and turn it into a string\n",
      "    \n",
      "    index=DNA.find(cutsite)+16                  # index gives the start position of the string, e.g., 0. \n",
      "                                                # we add 16 since index+0=start of 20-mer, so index+16=cut site, \n",
      "                                                # 3 nt before last of 20mer\n",
      "        \n",
      "    Lup=DNA[index-520:index-490]\n",
      "    Rup=(DNA[index-50:index-20]+flinker).reverse_complement()\n",
      "     \n",
      "    Ldown=rlinker+DNA[index+20:index+50]\n",
      "    Rdown=DNA[index+490:index+520].reverse_complement()\n",
      "    \n",
      "    cutSequence=Seq(\"GCAGTGAAAGATAAATGATC\")+cutsite+Seq(\"GTTTTAGAGCTAGAAATAGC\")\n",
      "    seqprimer=Seq(\"TGATC\")+cutsite\n",
      "    \n",
      "\n",
      "    print(\"cut\" + GeneName + \"  \" + cutSequence)\n",
      "    print(\"seq\" + GeneName + \"  \" + seqprimer)\n",
      "    print(\"Lup\" + GeneName + \"  \" + Lup)\n",
      "    print(\"Rup\" + GeneName + \"  \" + Rup)\n",
      "    print(\"Ldown\" + GeneName + \"  \" + Ldown)\n",
      "    print(\"Rdown\" + GeneName + \"  \" + Rdown)\n",
      "    \n",
      "\n",
      "    \n",
      "def delGene():\n",
      "    GeneName=input(\"Name, using quotes: \")\n",
      "    cutsite=input(\"20-mer cut sequence, using quotes: \")\n",
      "    DNA=input(\"Locus sequence +1few kb, using quotes: \")\n",
      "    deletion=input(\"Sequence to be deleted, using quotes: \")\n",
      "\n",
      "    if DNA.find(deletion)==-1:                  # if cutiste sequence found in ANTISENSE\n",
      "        DNA=Seq(DNA).reverse_complement()       # reverse DNA, and turn it into a string\n",
      "    \n",
      "    DNA=Seq(DNA)\n",
      "    \n",
      "    index=DNA.find(deletion)                    # index gives the start position of the string, e.g., 0. \n",
      "                                                # we add 16 since index+0=start of 20-mer, so index+16=cut site, 3 nt before last of 20mer\n",
      "    DNA=DNA[0:index]+DNA[index+len(deletion):len(DNA)-1]\n",
      "\n",
      "    #note that now index points to the first nt in the 3' fragment left after the deletion\n",
      "    uphom=DNA[index-520:index-20]\n",
      "    downhom=DNA[index+20:index+520]             # we keep it in SENSE strand for now. This definition is actually useless here. \n",
      "    \n",
      "    \n",
      "    Lup=DNA[index-500:index-470]\n",
      "    Rup=DNA[index-30:index+29].reverse_complement()\n",
      "     \n",
      "    Ldown=DNA[index-30:index+29]\n",
      "    Rdown=DNA[index+469:index+499].reverse_complement()\n",
      "    \n",
      "    cutSequence=Seq(\"GCAGTGAAAGATAAATGATC\")+cutsite+Seq(\"GTTTTAGAGCTAGAAATAGC\")\n",
      "    seqprimer=Seq(\"TGATC\")+cutsite\n",
      "    \n",
      "    print(\"cut\" + GeneName + \"  \" + cutSequence)\n",
      "    print(\"seq\" + GeneName + \"  \" + seqprimer)\n",
      "    print(\"Lup\" + GeneName + \"del\" + \" \" + Lup)\n",
      "    print(\"Rup\" + GeneName + \"del\" + \" \" + Rup)\n",
      "    print(\"Ldown\" + GeneName + \"del\" + \" \" + Ldown)\n",
      "    print(\"Rdown\" + GeneName + \"del\" + \" \" + Rdown)\n",
      "    \n",
      "# now to run, type the program and ^Enter or play. E.g. remove hash below to run delGene()\n",
      "delGene()\n",
      "\n"
     ],
     "language": "python",
     "metadata": {},
     "outputs": [
      {
       "name": "stdout",
       "output_type": "stream",
       "stream": "stdout",
       "text": [
        "Name, using quotes: \"TDH3\"\n"
       ]
      },
      {
       "name": "stdout",
       "output_type": "stream",
       "stream": "stdout",
       "text": [
        "20-mer cut sequence, using quotes: \"AGTTCGTCAAGTTGGTCTCC\"\n"
       ]
      },
      {
       "name": "stdout",
       "output_type": "stream",
       "stream": "stdout",
       "text": [
        "Locus sequence +1few kb, using quotes: \"ctattttcgaggaccttgtcaccttgagcccaagagagccaagatttaaattttcctatgacttgatgcaaattcccaaagctaataacatgcaagacacgtacggtcaagaagacatatttgacctcttaacaggttcagacgcgactgcctcatcagtaagacccgttgaaaagaacttacctgaaaaaaacgaatatatactagcgttgaatgttagcgtcaacaacaagaagtttaatgacgcggaggccaaggcaaaaagattccttgattacgtaagggagttagaatcattttgaataaaaaacacgctttttcagttcgagtttatcattatcaatactgccatttcaaagaatacgtaaataattaatagtagtgattttcctaactttatttagtcaaaaaattagccttttaattctgctgtaacccgtacatgcccaaaatagggggcgggttacacagaatatataacatcgtaggtgtctgggtgaacagtttattcctggcatccactaaatataatggagcccgctttttaagctggcatccagaaaaaaaaagaatcccagcaccaaaatattgttttcttcaccaaccatcagttcataggtccattctcttagcgcaactacagagaacaggggcacaaacaggcaaaaaacgggcacaacctcaatggagtgatgcaacctgcctggagtaaatgatgacacaaggcaattgacccacgcatgtatctatctcattttcttacaccttctattaccttctgctctctctgatttggaaaaagctgaaaaaaaaggttgaaaccagttccctgaaattattcccctacttgactaataagtatataaagacggtaggtattgattgtaattctgtaaatctatttcttaaacttcttaaattctacttttatagttagtcttttttttagttttaaaacaccaagaacttagtttcgaataaacacacataaacaaacaaaatggttagagttgctattaacggtttcggtagaatcggtagattggtcatgagaattgctttgtctagaccaaacgtcgaagttgttgctttgaacgacccattcatcaccaacgactacgctgcttacatgttcaagtacgactccactcacggtagatacgctggtgaagtttcccacgatgacaagcacatcattgtcgatggtaagaagattgctacttaccaagaaagagacccagctaacttgccatggggttcttccaacgttgacatcgccattgactccactggtgttttcaaggaattagacactgctcaaaagcacattgacgctggtgccaagaaggttgttatcactgctccatcttccaccgccccaatgttcgtcatgggtgttaacgaagaaaaatacacttctgacttgaagattgtttccaacgcttcttgtaccaccaactgtttggctccattggccaaggttatcaacgatgctttcggtattgaagaaggtttgatgaccactgtccactctttgactgctactcaaaagactgttgacggtccatcccacaaggactggagaggtggtagaaccgcttccggtaacatcatcccatcctccaccggtgctgctaaggctgtcggtaaggtcttgccagaattgcaaggtaagttgaccggtatggctttcagagtcccaaccgtcgatgtctccgttgttgacttgactgtcaagttgaacaaggaaaccacctacgatgaaatcaagaaggttgttaaggctgccgctgaaggtaagttgaagggtgttttgggttacaccgaagacgctgttgtctcctctgacttcttgggtgactctcactcttccatcttcgatgcttccgctggtatccaattgtctccaaagttcgtcaagttggtctcctggtacgacaacgaatacggttactctaccagagttgtcgacttggttgaacacgttgccaaggcttaatcatgtaattagttatgtcacgcttacattcacgccctccccccacatccgctctaaccgaaaaggaaggagttagacaacctgaagtctaggtccctatttatttttttatagttatgttagtattaagaacgttatttatatttcaaatttttcttttttttctgtacagacgcgtgtacgcatgtaacattatactgaaaaccttgcttgagaaggttttgggacgctcgaaggctttaatttgcgtgaatttactttaaatcttgcatttaaataaattttctttttatagctttatgacttagtttcaatttatatactattttaatgacattttcgattcattgattgaaagctttgtgttttttcttgatgcgctattgcattgttcttgtctttttcgccacatgtaatatctgtagtagatacctgatacattgtggatgctgagtgaaattttagttaataatggaggcgctcttaataattttggggatattggcttttttttttaaagtttacaaatgaattttttccgccaggataacgattctgaagttactcttagcgttcctatcggtacagccatcaaatcatgcctataaatcatgcctatatttgcgtgcagtcagtatcatctacatgaaaaaaactcccgcaatttcttatagaatacgttgaaaattaaatgtacgcgccaagataagataacatatatctagatgcagtaatatacacagattcccgcggacgtgggaaggaaaaaattagataacaaaatctgagtgatatggaaattccgctgtatagctcatatctttcccttcaacaccagaaatgtaaaaatcttgttacgaaggatctttttgctaatgtttctcgctcaatcctcatttcttccctacgaagagtcaaatctacttgttttctgccggtatcaagatccatatcttctagtttcaccatcaaagtccaatttctagtatacagtttatgtccaacgtaacagacaatcaaaattggaaaggataagtatccttcaaagaatgattctgcgctggctcctgaaccgcctaatgggaacagagaagtccaaaacgatgctataagaaccagaaataaaacgataaaaccataccaggatcccttgacgccagtttgagaaatgaagggtaattcgtctaaagacctttcttgaactttcatggcttggcgaaatctaatatgggaaagattaatggccat\"\n"
       ]
      },
      {
       "name": "stdout",
       "output_type": "stream",
       "stream": "stdout",
       "text": [
        "Sequence to be deleted, using quotes: \"ttatcaatactgccatttcaaagaatacgtaaataattaatagtagtgattttcctaactttatttagtcaaaaaattagccttttaattctgctgtaacccgtacatgcccaaaatagggggcgggttacacagaatatataacatcgtaggtgtctgggtgaacagtttattcctggcatccactaaatataatggagcccgctttttaagctggcatccagaaaaaaaaagaatcccagcaccaaaatattgttttcttcaccaaccatcagttcataggtccattctcttagcgcaactacagagaacaggggcacaaacaggcaaaaaacgggcacaacctcaatggagtgatgcaacctgcctggagtaaatgatgacacaaggcaattgacccacgcatgtatctatctcattttcttacaccttctattaccttctgctctctctgatttggaaaaagctgaaaaaaaaggttgaaaccagttccctgaaattattcccctacttgactaataagtatataaagacggtaggtattgattgtaattctgtaaatctatttcttaaacttcttaaattctacttttatagttagtcttttttttagttttaaaacaccaagaacttagtttcgaataaacacacataaacaaacaaaatggttagagttgctattaacggtttcggtagaatcggtagattggtcatgagaattgctttgtctagaccaaacgtcgaagttgttgctttgaacgacccattcatcaccaacgactacgctgcttacatgttcaagtacgactccactcacggtagatacgctggtgaagtttcccacgatgacaagcacatcattgtcgatggtaagaagattgctacttaccaagaaagagacccagctaacttgccatggggttcttccaacgttgacatcgccattgactccactggtgttttcaaggaattagacactgctcaaaagcacattgacgctggtgccaagaaggttgttatcactgctccatcttccaccgccccaatgttcgtcatgggtgttaacgaagaaaaatacacttctgacttgaagattgtttccaacgcttcttgtaccaccaactgtttggctccattggccaaggttatcaacgatgctttcggtattgaagaaggtttgatgaccactgtccactctttgactgctactcaaaagactgttgacggtccatcccacaaggactggagaggtggtagaaccgcttccggtaacatcatcccatcctccaccggtgctgctaaggctgtcggtaaggtcttgccagaattgcaaggtaagttgaccggtatggctttcagagtcccaaccgtcgatgtctccgttgttgacttgactgtcaagttgaacaaggaaaccacctacgatgaaatcaagaaggttgttaaggctgccgctgaaggtaagttgaagggtgttttgggttacaccgaagacgctgttgtctcctctgacttcttgggtgactctcactcttccatcttcgatgcttccgctggtatccaattgtctccaaagttcgtcaagttggtctcctggtacgacaacgaatacggttactctaccagagttgtcgacttggttgaacacgttgccaaggcttaatcatgtaattagttatgtcacgcttacattcacgccctccccccacatccgctctaaccgaaaaggaaggagttagacaacctgaagtctaggtccctatttatttttttatagttatgttagtattaagaacgttatttatatttcaaatttttcttttttttctgtacagacgcgtgtacgcatgtaacattatactgaaaaccttgcttgagaaggttttgggacgctcgaaggctttaatttgcgtgaa\"\n"
       ]
      },
      {
       "output_type": "stream",
       "stream": "stdout",
       "text": [
        "cutTDH3  GCAGTGAAAGATAAATGATCAGTTCGTCAAGTTGGTCTCCGTTTTAGAGCTAGAAATAGC\n",
        "seqTDH3  TGATCAGTTCGTCAAGTTGGTCTCC\n",
        "LupTDH3del gaacagagaagtccaaaacgatgctataag\n",
        "RupTDH3del atttatttaaatgcaagatttaaagtaaatgataaactcgaactgaaaaagcgtgtttt\n",
        "LdownTDH3del aaaacacgctttttcagttcgagtttatcatttactttaaatcttgcatttaaataaat\n",
        "RdownTDH3del cgcgggaatctgtgtatattactgcatcta\n"
       ]
      }
     ],
     "prompt_number": 5
    },
    {
     "cell_type": "code",
     "collapsed": false,
     "input": [
      "import urllib2\n",
      "import urllib\n",
      "import json\n",
      "\n",
      "url = \"http://ajax.googleapis.com/ajax/services/search/web?v=1.0&\"\n",
      "\n",
      "query = raw_input(\"What do you want to search for ? >> \")\n",
      "\n",
      "query = urllib.urlencode( {'q' : query } )\n",
      "\n",
      "response = urllib2.urlopen (url + query ).read()\n",
      "\n",
      "data = json.loads ( response )\n",
      "\n",
      "results = data [ 'responseData' ] [ 'results' ]\n",
      "\n",
      "for result in results:\n",
      "    title = result['title']\n",
      "    url = result['url']\n",
      "    print ( title + '; ' + url )"
     ],
     "language": "python",
     "metadata": {},
     "outputs": [
      {
       "name": "stdout",
       "output_type": "stream",
       "stream": "stdout",
       "text": [
        "What do you want to search for ? >> What's DNA\n"
       ]
      },
      {
       "ename": "TypeError",
       "evalue": "'NoneType' object has no attribute '__getitem__'",
       "output_type": "pyerr",
       "traceback": [
        "\u001b[0;31m---------------------------------------------------------------------------\u001b[0m\n\u001b[0;31mTypeError\u001b[0m                                 Traceback (most recent call last)",
        "\u001b[0;32m<ipython-input-3-a39a065f71ec>\u001b[0m in \u001b[0;36m<module>\u001b[0;34m()\u001b[0m\n\u001b[1;32m     13\u001b[0m \u001b[0mdata\u001b[0m \u001b[0;34m=\u001b[0m \u001b[0mjson\u001b[0m\u001b[0;34m.\u001b[0m\u001b[0mloads\u001b[0m \u001b[0;34m(\u001b[0m \u001b[0mresponse\u001b[0m \u001b[0;34m)\u001b[0m\u001b[0;34m\u001b[0m\u001b[0m\n\u001b[1;32m     14\u001b[0m \u001b[0;34m\u001b[0m\u001b[0m\n\u001b[0;32m---> 15\u001b[0;31m \u001b[0mresults\u001b[0m \u001b[0;34m=\u001b[0m \u001b[0mdata\u001b[0m \u001b[0;34m[\u001b[0m \u001b[0;34m'responseData'\u001b[0m \u001b[0;34m]\u001b[0m \u001b[0;34m[\u001b[0m \u001b[0;34m'results'\u001b[0m \u001b[0;34m]\u001b[0m\u001b[0;34m\u001b[0m\u001b[0m\n\u001b[0m\u001b[1;32m     16\u001b[0m \u001b[0;34m\u001b[0m\u001b[0m\n\u001b[1;32m     17\u001b[0m \u001b[0;32mfor\u001b[0m \u001b[0mresult\u001b[0m \u001b[0;32min\u001b[0m \u001b[0mresults\u001b[0m\u001b[0;34m:\u001b[0m\u001b[0;34m\u001b[0m\u001b[0m\n",
        "\u001b[0;31mTypeError\u001b[0m: 'NoneType' object has no attribute '__getitem__'"
       ]
      }
     ],
     "prompt_number": 3
    },
    {
     "cell_type": "code",
     "collapsed": false,
     "input": [],
     "language": "python",
     "metadata": {},
     "outputs": []
    }
   ],
   "metadata": {}
  }
 ]
}